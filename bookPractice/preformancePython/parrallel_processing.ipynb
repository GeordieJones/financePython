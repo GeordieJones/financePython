{
 "cells": [
  {
   "cell_type": "code",
   "execution_count": 15,
   "metadata": {},
   "outputs": [
    {
     "data": {
      "text/plain": [
       "<AsyncResult(execute): pending>"
      ]
     },
     "execution_count": 15,
     "metadata": {},
     "output_type": "execute_result"
    }
   ],
   "source": [
    "from multiprocessing import Pool\n",
    "from ipyparallel import Client\n",
    "\n",
    "\n",
    "\n",
    "c = Client()  \n",
    "view = c.load_balanced_view()\n",
    "c[:].execute(\"import numpy as np\")\n"
   ]
  },
  {
   "cell_type": "code",
   "execution_count": 5,
   "metadata": {},
   "outputs": [],
   "source": [
    "import numpy as np\n",
    "def bsm_mcs_valuation(strike):\n",
    "    S0 = 100.; T = 1.0; r= 0.05; vola = 0.2; M = 50; I = 20000\n",
    "    dt = T/M\n",
    "    rand = np.random.standard_normal((M+1, I))\n",
    "    S = np.zeros((M+1, I)); S[0] = S0\n",
    "    for t in range(1, M+1):\n",
    "        S[t] = S[t-1] * np.exp((r-0.5 *vola **2)*dt + vola * np.sqrt(dt)*rand[t])\n",
    "    value = (np.exp(-r * T) * np.sum(np.maximum(S[-1]-strike, 0)) / I)\n",
    "    return value"
   ]
  },
  {
   "cell_type": "code",
   "execution_count": 13,
   "metadata": {},
   "outputs": [],
   "source": [
    "n = 100\n",
    "def par_value(n):\n",
    "    import numpy as np\n",
    "    strikes = np.linspace(80, 120, n)\n",
    "    async_results = [view.apply_async(bsm_mcs_valuation, strike) for strike in strikes]\n",
    "    c.wait(async_results)\n",
    "    return strikes, async_results"
   ]
  },
  {
   "cell_type": "code",
   "execution_count": 16,
   "metadata": {},
   "outputs": [
    {
     "name": "stdout",
     "output_type": "stream",
     "text": [
      "CPU times: user 231 ms, sys: 59.1 ms, total: 290 ms\n",
      "Wall time: 2.79 s\n"
     ]
    }
   ],
   "source": [
    "%time strikes, option_values_obj = par_value(n)"
   ]
  },
  {
   "cell_type": "code",
   "execution_count": 17,
   "metadata": {},
   "outputs": [
    {
     "data": {
      "text/plain": [
       "{'msg_id': '61e27181-fad66fd0daf6cbb1f4e0a354_31185_5',\n",
       " 'submitted': datetime.datetime(2025, 6, 18, 19, 34, 47, 26612, tzinfo=tzutc()),\n",
       " 'started': datetime.datetime(2025, 6, 18, 19, 34, 47, 44574, tzinfo=tzutc()),\n",
       " 'completed': datetime.datetime(2025, 6, 18, 19, 34, 47, 224114, tzinfo=tzutc()),\n",
       " 'received': datetime.datetime(2025, 6, 18, 19, 34, 47, 235397, tzinfo=datetime.timezone.utc),\n",
       " 'engine_uuid': '63a8efb4-51d107bd936f81e0fc053ee6',\n",
       " 'engine_id': 2,\n",
       " 'follow': [],\n",
       " 'after': [],\n",
       " 'status': 'ok',\n",
       " 'execute_input': None,\n",
       " 'execute_result': None,\n",
       " 'error': None,\n",
       " 'stdout': '',\n",
       " 'stderr': '',\n",
       " 'outputs': [],\n",
       " 'data': {},\n",
       " 'is_broadcast': False,\n",
       " 'is_coalescing': False}"
      ]
     },
     "execution_count": 17,
     "metadata": {},
     "output_type": "execute_result"
    }
   ],
   "source": [
    "option_values_obj[0].metadata"
   ]
  },
  {
   "cell_type": "code",
   "execution_count": 19,
   "metadata": {},
   "outputs": [
    {
     "data": {
      "text/plain": [
       "24.581989538293954"
      ]
     },
     "execution_count": 19,
     "metadata": {},
     "output_type": "execute_result"
    }
   ],
   "source": [
    "option_values_obj[0].result()"
   ]
  },
  {
   "cell_type": "code",
   "execution_count": 20,
   "metadata": {},
   "outputs": [],
   "source": [
    "option_values_par = []\n",
    "for res in option_values_obj:\n",
    "    option_values_par.append(res.result())"
   ]
  },
  {
   "cell_type": "code",
   "execution_count": 22,
   "metadata": {},
   "outputs": [
    {
     "data": {
      "text/plain": [
       "Text(0, 0.5, 'option value')"
      ]
     },
     "execution_count": 22,
     "metadata": {},
     "output_type": "execute_result"
    },
    {
     "data": {
      "image/png": "[encoded data removed]",
      "text/plain": [
       "<Figure size 800x400 with 1 Axes>"
      ]
     },
     "metadata": {},
     "output_type": "display_data"
    }
   ],
   "source": [
    "import matplotlib.pyplot as plt\n",
    "plt.figure(figsize=(8,4))\n",
    "plt.plot(strikes, option_values_par, 'b')\n",
    "plt.grid(True)\n",
    "plt.xlabel('strikes')\n",
    "plt.ylabel('option value')\n"
   ]
  }
 ],
 "metadata": {
  "kernelspec": {
   "display_name": "base",
   "language": "python",
   "name": "python3"
  },
  "language_info": {
   "codemirror_mode": {
    "name": "ipython",
    "version": 3
   },
   "file_extension": ".py",
   "mimetype": "text/x-python",
   "name": "python",
   "nbconvert_exporter": "python",
   "pygments_lexer": "ipython3",
   "version": "3.11.5"
  }
 },
 "nbformat": 4,
 "nbformat_minor": 2
}
