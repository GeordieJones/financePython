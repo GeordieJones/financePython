{
 "cells": [
  {
   "cell_type": "code",
   "execution_count": 5,
   "metadata": {},
   "outputs": [
    {
     "name": "stdout",
     "output_type": "stream",
     "text": [
      "CPU times: user 7.08 s, sys: 44 ms, total: 7.13 s\n",
      "Wall time: 7.21 s\n"
     ]
    },
    {
     "data": {
      "text/plain": [
       "45000000"
      ]
     },
     "execution_count": 5,
     "metadata": {},
     "output_type": "execute_result"
    }
   ],
   "source": [
    "from math import cos, log\n",
    "def f_py(I,J):\n",
    "    res = 0\n",
    "    for i in range(I):\n",
    "        for j in range(J):\n",
    "            res += int(cos(log(1)))\n",
    "    return res\n",
    "\n",
    "I, J = 9000,5000\n",
    "%time f_py(I, J)"
   ]
  },
  {
   "cell_type": "code",
   "execution_count": 6,
   "metadata": {},
   "outputs": [
    {
     "name": "stdout",
     "output_type": "stream",
     "text": [
      "CPU times: user 1.28 s, sys: 270 ms, total: 1.55 s\n",
      "Wall time: 984 ms\n"
     ]
    }
   ],
   "source": [
    "import numpy as np\n",
    "def f_np(I,J):\n",
    "    a = np.ones((I,J), dtype = np.float64)\n",
    "    return int(np.sum(np.cos(np.log(a)))),a\n",
    "%time res, a = f_np(I,J)"
   ]
  },
  {
   "cell_type": "code",
   "execution_count": 7,
   "metadata": {},
   "outputs": [
    {
     "data": {
      "text/plain": [
       "360000000"
      ]
     },
     "execution_count": 7,
     "metadata": {},
     "output_type": "execute_result"
    }
   ],
   "source": [
    "a.nbytes"
   ]
  },
  {
   "cell_type": "code",
   "execution_count": 8,
   "metadata": {},
   "outputs": [],
   "source": [
    "del a"
   ]
  },
  {
   "cell_type": "code",
   "execution_count": 10,
   "metadata": {},
   "outputs": [
    {
     "name": "stdout",
     "output_type": "stream",
     "text": [
      "CPU times: user 44.2 ms, sys: 8.97 ms, total: 53.2 ms\n",
      "Wall time: 57.3 ms\n"
     ]
    },
    {
     "data": {
      "text/plain": [
       "45000000"
      ]
     },
     "execution_count": 10,
     "metadata": {},
     "output_type": "execute_result"
    }
   ],
   "source": [
    "import numba as nb\n",
    "f_nb = nb.jit(f_py,nopython=True)\n",
    "\n",
    "%time f_nb(I,J)"
   ]
  },
  {
   "cell_type": "code",
   "execution_count": 11,
   "metadata": {},
   "outputs": [],
   "source": [
    "def perf_comp_data(func_list, data_list, rep=3, number = 1):\n",
    "    '''\n",
    "    func_list = list with functions names as strings\n",
    "    data_list = list with data sets as strings\n",
    "    rep: int = number of repitions\n",
    "    number : int = nuber of executions in function\n",
    "    '''\n",
    "    from timeit import repeat\n",
    "    res_list = {}\n",
    "    for name in enumerate(func_list):\n",
    "        stmt = name[1] + '('+data_list[name[0]] + ')'\n",
    "        setup = 'from __main__ import ' + name[1]+ ','+data_list[name[0]]\n",
    "        results = repeat(stmt=stmt, setup=setup, repeat = rep, number = number)\n",
    "        res_list[name[1]] = sum(results)/rep\n",
    "    res_sort = sorted(res_list.items(), key = lambda x: (x[1],x[0]))\n",
    "    for func, avg_time in res_sort:\n",
    "        rel = avg_time / res_sort[0][1]\n",
    "        print(f'Function: {func}, Avg Time (s): {avg_time:.5f}, Relative: {rel:.2f}x')"
   ]
  },
  {
   "cell_type": "code",
   "execution_count": 12,
   "metadata": {},
   "outputs": [
    {
     "name": "stdout",
     "output_type": "stream",
     "text": [
      "Function: f_nb, Avg Time (s): 0.00000, Relative: 1.00x\n",
      "Function: f_np, Avg Time (s): 0.56925, Relative: 133076.25x\n",
      "Function: f_py, Avg Time (s): 7.30722, Relative: 1708234.89x\n"
     ]
    }
   ],
   "source": [
    "func_list = ['f_py', 'f_np', 'f_nb']\n",
    "data_list = 3*['I, J']\n",
    "\n",
    "perf_comp_data(func_list, data_list)"
   ]
  }
 ],
 "metadata": {
  "kernelspec": {
   "display_name": "base",
   "language": "python",
   "name": "python3"
  },
  "language_info": {
   "codemirror_mode": {
    "name": "ipython",
    "version": 3
   },
   "file_extension": ".py",
   "mimetype": "text/x-python",
   "name": "python",
   "nbconvert_exporter": "python",
   "pygments_lexer": "ipython3",
   "version": "3.11.5"
  }
 },
 "nbformat": 4,
 "nbformat_minor": 2
}
