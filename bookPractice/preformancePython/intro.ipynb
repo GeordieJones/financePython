{
 "cells": [
  {
   "cell_type": "code",
   "execution_count": 16,
   "metadata": {},
   "outputs": [],
   "source": [
    "def perf_comp_data(func_list, data_list, rep=3, number = 1):\n",
    "    '''\n",
    "    func_list = list with functions names as strings\n",
    "    data_list = list with data sets as strings\n",
    "    rep: int = number of repitions\n",
    "    number : int = nuber of executions in function\n",
    "    '''\n",
    "    from timeit import repeat\n",
    "    res_list = {}\n",
    "    for name in enumerate(func_list):\n",
    "        stmt = name[1] + '('+data_list[name[0]] + ')'\n",
    "        setup = 'from __main__ import ' + name[1]+ ','+data_list[name[0]]\n",
    "        results = repeat(stmt=stmt, setup=setup, repeat = rep, number = number)\n",
    "        res_list[name[1]] = sum(results)/rep\n",
    "    res_sort = sorted(res_list.items(), key = lambda x: (x[1],x[0]))\n",
    "    for func, avg_time in res_sort:\n",
    "        rel = avg_time / res_sort[0][1]\n",
    "        print(f'Function: {func}, Avg Time (s): {avg_time:.5f}, Relative: {rel:.2f}x')"
   ]
  },
  {
   "cell_type": "code",
   "execution_count": 3,
   "metadata": {},
   "outputs": [],
   "source": [
    "from math import *\n",
    "def f(x):\n",
    "    return abs(cos(x))**0.5 + sin(2+3*x)"
   ]
  },
  {
   "cell_type": "code",
   "execution_count": 4,
   "metadata": {},
   "outputs": [],
   "source": [
    "I = 500000\n",
    "a_py = range(I)"
   ]
  },
  {
   "cell_type": "code",
   "execution_count": 11,
   "metadata": {},
   "outputs": [],
   "source": [
    "def f1(a):\n",
    "    res = []\n",
    "    for x in a:\n",
    "        res.append(f(x))\n",
    "    return res\n",
    "\n",
    "def f2(a):\n",
    "    return [f(x) for x in a]\n",
    "\n",
    "def f3(a):\n",
    "    ex = 'abs(cos(x))**0.5 + sin(2+3*x)'\n",
    "    return [eval(ex) for x in a]\n",
    "\n",
    "import numpy as np\n",
    "a_np = np.arange(I)\n",
    "def f4(a):\n",
    "    return (np.abs(np.cos(a))**0.5 + np.sin(2+3*a))\n",
    "\n",
    "import numexpr as ne\n",
    "def f5(a):\n",
    "    ex = 'abs(cos(a))**0.5 + sin(2+3*a)'\n",
    "    ne.set_num_threads(1)\n",
    "    return ne.evaluate(ex)\n",
    "\n",
    "def f6(a):\n",
    "    ex = 'abs(cos(a))**0.5 + sin(2+3*a)'\n",
    "    ne.set_num_threads(16)\n",
    "    return ne.evaluate(ex)"
   ]
  },
  {
   "cell_type": "code",
   "execution_count": 13,
   "metadata": {},
   "outputs": [
    {
     "name": "stdout",
     "output_type": "stream",
     "text": [
      "CPU times: user 6.55 s, sys: 59.5 ms, total: 6.61 s\n",
      "Wall time: 7.19 s\n"
     ]
    }
   ],
   "source": [
    "%%time\n",
    "a_np = np.arange(I)\n",
    "r1 = f1(a_py)\n",
    "r2 = f2(a_py)\n",
    "r3 = f3(a_py)\n",
    "r4 = f4(a_np)\n",
    "r5 = f5(a_py)\n",
    "r6 = f6(a_py)\n"
   ]
  },
  {
   "cell_type": "code",
   "execution_count": 17,
   "metadata": {},
   "outputs": [
    {
     "name": "stdout",
     "output_type": "stream",
     "text": [
      "Function: f6, Avg Time (s): 0.00255, Relative: 1.00x\n",
      "Function: f4, Avg Time (s): 0.00984, Relative: 3.86x\n",
      "Function: f5, Avg Time (s): 0.01031, Relative: 4.04x\n",
      "Function: f1, Avg Time (s): 0.14446, Relative: 56.59x\n",
      "Function: f2, Avg Time (s): 0.20239, Relative: 79.28x\n",
      "Function: f3, Avg Time (s): 6.09531, Relative: 2387.73x\n"
     ]
    }
   ],
   "source": [
    "func_list = ['f1', 'f2', 'f3', 'f4', 'f5', 'f6']\n",
    "data_list = ['a_py', 'a_py', 'a_py', 'a_np', 'a_np', 'a_np']\n",
    "\n",
    "perf_comp_data(func_list, data_list)"
   ]
  }
 ],
 "metadata": {
  "kernelspec": {
   "display_name": "base",
   "language": "python",
   "name": "python3"
  },
  "language_info": {
   "codemirror_mode": {
    "name": "ipython",
    "version": 3
   },
   "file_extension": ".py",
   "mimetype": "text/x-python",
   "name": "python",
   "nbconvert_exporter": "python",
   "pygments_lexer": "ipython3",
   "version": "3.11.5"
  }
 },
 "nbformat": 4,
 "nbformat_minor": 2
}
