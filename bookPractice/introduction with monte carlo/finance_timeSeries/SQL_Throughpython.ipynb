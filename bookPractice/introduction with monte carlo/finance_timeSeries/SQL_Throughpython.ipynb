{
 "cells": [
  {
   "cell_type": "code",
   "execution_count": null,
   "metadata": {},
   "outputs": [],
   "source": [
    "import sqlite3 as sq3\n",
    "path = 'flash/data'\n",
    "query = 'CREATE TABLE numbs (Date date, No1 real, No2 real)'\n",
    "con = sq3.connect(path + 'numbs.db')\n",
    "#con.execute(query) (added this in my first check so already added in my notebook)\n",
    "con.commit()"
   ]
  },
  {
   "cell_type": "code",
   "execution_count": 7,
   "metadata": {},
   "outputs": [
    {
     "data": {
      "text/plain": [
       "<sqlite3.Cursor at 0x10889b3c0>"
      ]
     },
     "execution_count": 7,
     "metadata": {},
     "output_type": "execute_result"
    }
   ],
   "source": [
    "import datetime as dt\n",
    "con.execute('INSERT INTO numbs VALUES(?,?,?)', (dt.datetime.now(), 0.12, 7.3))\n"
   ]
  },
  {
   "cell_type": "code",
   "execution_count": 8,
   "metadata": {},
   "outputs": [],
   "source": [
    "import numpy as np\n",
    "data = np.random.standard_normal((10000, 2)).round(5)\n",
    "\n",
    "for row in data:\n",
    "    con.execute('INSERT INTO numbs VALUES(?,?,?)', (dt.datetime.now(), row[0], row[1]))\n",
    "con.commit()\n"
   ]
  },
  {
   "cell_type": "code",
   "execution_count": 9,
   "metadata": {},
   "outputs": [
    {
     "data": {
      "text/plain": [
       "[('2025-06-14 10:25:42.688094', 0.12, 7.3),\n",
       " ('2025-06-14 10:27:27.981099', -0.85558, 0.50136),\n",
       " ('2025-06-14 10:27:27.981177', -1.78573, 0.6202),\n",
       " ('2025-06-14 10:27:27.981206', -0.34161, -0.82694),\n",
       " ('2025-06-14 10:27:27.981213', -0.39778, 0.99789),\n",
       " ('2025-06-14 10:27:27.981218', -1.40643, -1.33045),\n",
       " ('2025-06-14 10:27:27.981221', -0.75651, -1.27424),\n",
       " ('2025-06-14 10:27:27.981225', -1.31216, -1.12546),\n",
       " ('2025-06-14 10:27:27.981230', 0.5641, -1.14699),\n",
       " ('2025-06-14 10:27:27.981234', -0.80327, -0.11281)]"
      ]
     },
     "execution_count": 9,
     "metadata": {},
     "output_type": "execute_result"
    }
   ],
   "source": [
    "con.execute('SELECT * FROM numbs').fetchmany(10)"
   ]
  },
  {
   "cell_type": "code",
   "execution_count": 10,
   "metadata": {},
   "outputs": [],
   "source": [
    "con.close()"
   ]
  },
  {
   "cell_type": "code",
   "execution_count": 11,
   "metadata": {},
   "outputs": [
    {
     "data": {
      "text/plain": [
       "1578240"
      ]
     },
     "execution_count": 11,
     "metadata": {},
     "output_type": "execute_result"
    }
   ],
   "source": [
    "dtimes = np.arange('2021-12-31 22:00:00','2024-12-31 22:00:00', dtype = 'datetime64[m]')\n",
    "len(dtimes)"
   ]
  },
  {
   "cell_type": "code",
   "execution_count": 13,
   "metadata": {},
   "outputs": [
    {
     "name": "stdout",
     "output_type": "stream",
     "text": [
      "CPU times: user 179 µs, sys: 4.39 ms, total: 4.57 ms\n",
      "Wall time: 8.63 ms\n"
     ]
    }
   ],
   "source": [
    "dty = np.dtype([('Dates', 'datetime64[m]'),('No1','f'),('No2','f')])\n",
    "data = np.zeros(len(dtimes), dtype=dty)\n",
    "data['Dates'] = dtimes\n",
    "a = np.random.standard_normal((len(dtimes),2)).round(5)\n",
    "data['No1'] = a[:,0]\n",
    "data['No2'] = a[:,1]\n",
    "%time np.save(path+'array',data)"
   ]
  },
  {
   "cell_type": "code",
   "execution_count": 14,
   "metadata": {},
   "outputs": [
    {
     "name": "stdout",
     "output_type": "stream",
     "text": [
      "-rw-r--r--@ 1 The_real_G  staff  25252032 Jun 14 10:41 flash/dataarray.npy\n",
      "-rw-r--r--@ 1 The_real_G  staff    520192 Jun 14 10:27 flash/datanumbs.db\n"
     ]
    }
   ],
   "source": [
    "ll $path*"
   ]
  },
  {
   "cell_type": "code",
   "execution_count": 15,
   "metadata": {},
   "outputs": [
    {
     "name": "stdout",
     "output_type": "stream",
     "text": [
      "CPU times: user 1.38 ms, sys: 10.2 ms, total: 11.6 ms\n",
      "Wall time: 11.6 ms\n"
     ]
    },
    {
     "data": {
      "text/plain": [
       "array([('2021-12-31T22:00', -0.0248 , 0.90864),\n",
       "       ('2021-12-31T22:01',  0.39582, 0.22626),\n",
       "       ('2021-12-31T22:02',  0.37746, 0.12111), ...,\n",
       "       ('2024-12-31T21:57', -0.1906 , 0.79382),\n",
       "       ('2024-12-31T21:58', -0.46868, 1.73621),\n",
       "       ('2024-12-31T21:59', -1.20466, 0.8614 )],\n",
       "      dtype=[('Dates', '<M8[m]'), ('No1', '<f4'), ('No2', '<f4')])"
      ]
     },
     "execution_count": 15,
     "metadata": {},
     "output_type": "execute_result"
    }
   ],
   "source": [
    "%time np.load(path +'array.npy')"
   ]
  }
 ],
 "metadata": {
  "kernelspec": {
   "display_name": "base",
   "language": "python",
   "name": "python3"
  },
  "language_info": {
   "codemirror_mode": {
    "name": "ipython",
    "version": 3
   },
   "file_extension": ".py",
   "mimetype": "text/x-python",
   "name": "python",
   "nbconvert_exporter": "python",
   "pygments_lexer": "ipython3",
   "version": "3.11.5"
  }
 },
 "nbformat": 4,
 "nbformat_minor": 2
}
