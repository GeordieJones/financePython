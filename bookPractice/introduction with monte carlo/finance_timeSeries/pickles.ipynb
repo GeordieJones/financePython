{
 "cells": [
  {
   "cell_type": "code",
   "execution_count": 3,
   "metadata": {},
   "outputs": [],
   "source": [
    "path = 'flash/data'\n",
    "import numpy as np\n",
    "from random import gauss\n",
    "import pickle"
   ]
  },
  {
   "cell_type": "code",
   "execution_count": 4,
   "metadata": {},
   "outputs": [],
   "source": [
    "a = [gauss(1.5,2) for i in range(1000000)]"
   ]
  },
  {
   "cell_type": "code",
   "execution_count": 8,
   "metadata": {},
   "outputs": [
    {
     "name": "stdout",
     "output_type": "stream",
     "text": [
      "CPU times: user 14.3 ms, sys: 5.58 ms, total: 19.9 ms\n",
      "Wall time: 22.4 ms\n"
     ]
    }
   ],
   "source": [
    "pkl_file = open(path + '.pkl','wb')\n",
    "%time pickle.dump(a,pkl_file)"
   ]
  },
  {
   "cell_type": "code",
   "execution_count": 9,
   "metadata": {},
   "outputs": [
    {
     "name": "stdout",
     "output_type": "stream",
     "text": [
      "-rw-r--r--@ 1 The_real_G  staff  9003247 Jun 13 21:19 flash/data.pkl\n"
     ]
    }
   ],
   "source": [
    "ll $path*"
   ]
  },
  {
   "cell_type": "code",
   "execution_count": 19,
   "metadata": {},
   "outputs": [
    {
     "name": "stdout",
     "output_type": "stream",
     "text": [
      "CPU times: user 27.2 ms, sys: 10.2 ms, total: 37.4 ms\n",
      "Wall time: 42.8 ms\n",
      "read:  [2.5019498863078002, -1.7743570370968031, 0.6455851506939593, 1.4395567565248715, 0.9683742862955541]\n",
      "wrote:  [2.5019498863078002, -1.7743570370968031, 0.6455851506939593, 1.4395567565248715, 0.9683742862955541]\n",
      "True\n"
     ]
    }
   ],
   "source": [
    "pkl_file = open(path + '.pkl', 'rb')\n",
    "%time b = pickle.load(pkl_file)\n",
    "print(f'read:  {b[:5]}')\n",
    "print(f'wrote:  {a[:5]}')\n",
    "print(np.allclose(np.array(a), np.array(b)))"
   ]
  },
  {
   "cell_type": "code",
   "execution_count": 21,
   "metadata": {},
   "outputs": [
    {
     "name": "stdout",
     "output_type": "stream",
     "text": [
      "zsh:1: no matches found: flash/data*\n"
     ]
    }
   ],
   "source": [
    "!rm -f $path*\n",
    "del a"
   ]
  },
  {
   "cell_type": "code",
   "execution_count": 23,
   "metadata": {},
   "outputs": [
    {
     "data": {
      "text/plain": [
       "array([[ 0.8527, -0.3945,  0.5177,  0.0923,  0.1363],\n",
       "       [ 0.1156, -0.8995,  0.4411, -0.4827, -0.2841],\n",
       "       [ 0.6538,  0.134 , -0.6238, -0.5839, -0.0606],\n",
       "       ...,\n",
       "       [-0.7336,  1.256 ,  1.8546, -1.0222,  1.8473],\n",
       "       [-0.8974,  0.983 ,  0.2616,  1.9862, -0.3839],\n",
       "       [-1.9922,  0.9262, -0.3631, -2.3173, -1.2144]])"
      ]
     },
     "execution_count": 23,
     "metadata": {},
     "output_type": "execute_result"
    }
   ],
   "source": [
    "rows = 5000\n",
    "a= np.random.standard_normal((rows,5))\n",
    "a.round(4)\n",
    "#dummy data"
   ]
  },
  {
   "cell_type": "code",
   "execution_count": 27,
   "metadata": {},
   "outputs": [],
   "source": [
    "import pandas as pd\n",
    "t= pd.date_range(start='2014/1/1', periods=rows, freq = 'H')\n",
    "cvs_file = open(path+'data.csv','w')\n",
    "header = 'date,no1,no2,no3,no4,no5\\n'\n",
    "cvs_file.write(header)\n",
    "for t_,(no1,no2,no3,no4,no5) in zip(t,a):\n",
    "    s = '%s,%f,%f,%f,%f,%f\\n' % (t_,no1,no2,no3,no4,no5)\n",
    "    cvs_file.write(s)\n",
    "cvs_file.close()"
   ]
  },
  {
   "cell_type": "code",
   "execution_count": 28,
   "metadata": {},
   "outputs": [
    {
     "name": "stdout",
     "output_type": "stream",
     "text": [
      "-rw-r--r--@ 1 The_real_G  staff  337537 Jun 13 21:40 flash/datadata.csv\n"
     ]
    }
   ],
   "source": [
    "ll $path*"
   ]
  },
  {
   "cell_type": "code",
   "execution_count": 33,
   "metadata": {},
   "outputs": [
    {
     "name": "stdout",
     "output_type": "stream",
     "text": [
      "date,no1,no2,no3,no4,no5\n",
      "\n",
      "2014-01-01 00:00:00,0.852660,-0.394456,0.517688,0.092264,0.136324\n",
      "\n",
      "2014-01-01 01:00:00,0.115636,-0.899486,0.441090,-0.482694,-0.284102\n",
      "\n",
      "2014-01-01 02:00:00,0.653815,0.133958,-0.623752,-0.583938,-0.060630\n",
      "\n",
      "2014-01-01 03:00:00,0.491457,-0.366219,0.864831,-0.347059,0.403445\n",
      "\n"
     ]
    }
   ],
   "source": [
    "csv_file = open(path + 'data.csv', 'r')\n",
    "content = csv_file.readlines()\n",
    "for line in content[:5]:\n",
    "    print(line,)"
   ]
  },
  {
   "cell_type": "code",
   "execution_count": null,
   "metadata": {},
   "outputs": [],
   "source": []
  }
 ],
 "metadata": {
  "kernelspec": {
   "display_name": "base",
   "language": "python",
   "name": "python3"
  },
  "language_info": {
   "codemirror_mode": {
    "name": "ipython",
    "version": 3
   },
   "file_extension": ".py",
   "mimetype": "text/x-python",
   "name": "python",
   "nbconvert_exporter": "python",
   "pygments_lexer": "ipython3",
   "version": "3.11.5"
  }
 },
 "nbformat": 4,
 "nbformat_minor": 2
}
