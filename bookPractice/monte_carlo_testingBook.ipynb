{
 "cells": [
  {
   "cell_type": "code",
   "execution_count": 1,
   "id": "83d941ea",
   "metadata": {},
   "outputs": [
    {
     "name": "stdout",
     "output_type": "stream",
     "text": [
      "European call options val:   7.999\n",
      "Duration in sec:   8.694\n"
     ]
    }
   ],
   "source": [
    "%run monte_carlo_basic.py\n"
   ]
  },
  {
   "cell_type": "code",
   "execution_count": null,
   "id": "c4fae26b",
   "metadata": {},
   "outputs": [],
   "source": []
  }
 ],
 "metadata": {
  "kernelspec": {
   "display_name": "Python 3 (ipykernel)",
   "language": "python",
   "name": "python3"
  },
  "language_info": {
   "codemirror_mode": {
    "name": "ipython",
    "version": 3
   },
   "file_extension": ".py",
   "mimetype": "text/x-python",
   "name": "python",
   "nbconvert_exporter": "python",
   "pygments_lexer": "ipython3",
   "version": "3.11.5"
  }
 },
 "nbformat": 4,
 "nbformat_minor": 5
}
