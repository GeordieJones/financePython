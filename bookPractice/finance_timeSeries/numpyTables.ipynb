{
 "cells": [
  {
   "cell_type": "code",
   "execution_count": 2,
   "metadata": {},
   "outputs": [],
   "source": [
    "import numpy as np\n",
    "import tables as tb\n",
    "import datetime as dt\n",
    "import matplotlib.pyplot as plt\n",
    "%matplotlib inline\n",
    "path = 'flash/data'"
   ]
  },
  {
   "cell_type": "code",
   "execution_count": 6,
   "metadata": {},
   "outputs": [
    {
     "data": {
      "text/plain": [
       "/ints_floats (Table(0,)) 'Integers and Floats'\n",
       "  description := {\n",
       "  \"Date\": StringCol(itemsize=26, shape=(), dflt=b'', pos=0),\n",
       "  \"No1\": Int32Col(shape=(), dflt=0, pos=1),\n",
       "  \"No2\": Int32Col(shape=(), dflt=0, pos=2),\n",
       "  \"No3\": Float64Col(shape=(), dflt=0.0, pos=3),\n",
       "  \"No4\": Float64Col(shape=(), dflt=0.0, pos=4)}\n",
       "  byteorder := 'little'\n",
       "  chunkshape := (2621,)"
      ]
     },
     "execution_count": 6,
     "metadata": {},
     "output_type": "execute_result"
    }
   ],
   "source": [
    "filename = path + 'tab.h5'\n",
    "#h5= tb.open_file(filename, 'w')\n",
    "rows = 2000000\n",
    "\n",
    "row_des = {'Date': tb.StringCol(26,pos =1), 'No1': tb.IntCol(pos=2),\n",
    "            'No2': tb.IntCol(pos=3), 'No3': tb.Float64Col(pos=4),\n",
    "            'No4': tb.Float64Col(pos=5)}\n",
    "\n",
    "filters = tb.Filters(complevel=0)\n",
    "tab = h5.create_table(where='/', name='ints_floats', description= row_des, title = 'Integers and Floats',\n",
    "                        expectedrows = rows, filters = filters)\n",
    "\n",
    "tab\n"
   ]
  },
  {
   "cell_type": "code",
   "execution_count": 7,
   "metadata": {},
   "outputs": [],
   "source": [
    "pointer = tab.row"
   ]
  },
  {
   "cell_type": "code",
   "execution_count": 9,
   "metadata": {},
   "outputs": [],
   "source": [
    "ran_int = np.random.randint(0,10000, size = (rows,2))\n",
    "ran_flo = np.random.standard_normal((rows,2)).round(5)"
   ]
  },
  {
   "cell_type": "code",
   "execution_count": 15,
   "metadata": {},
   "outputs": [
    {
     "name": "stdout",
     "output_type": "stream",
     "text": [
      "CPU times: user 4.95 s, sys: 97 ms, total: 5.04 s\n",
      "Wall time: 5.32 s\n"
     ]
    }
   ],
   "source": [
    "%%time\n",
    "for i in range(rows):\n",
    "    pointer['Date'] = str(dt.datetime.now())\n",
    "    pointer['No1'] = ran_int[i,0]\n",
    "    pointer['No2'] = ran_int[i,1]\n",
    "    pointer['No3'] = ran_flo[i,0]\n",
    "    pointer['No4'] = ran_flo[i,1]\n",
    "    pointer.append()\n",
    "tab.flush()\n"
   ]
  },
  {
   "cell_type": "code",
   "execution_count": 16,
   "metadata": {},
   "outputs": [
    {
     "name": "stdout",
     "output_type": "stream",
     "text": [
      "-rw-r--r--@ 1 The_real_G  staff  100156248 Jun 15 17:08 flash/datatab.h5\n"
     ]
    }
   ],
   "source": [
    "ll $path*"
   ]
  },
  {
   "cell_type": "code",
   "execution_count": 17,
   "metadata": {},
   "outputs": [
    {
     "data": {
      "text/plain": [
       "array([(b'2025-06-15 17:08:02.679804', 3601,  254,  0.1453 ,  1.98032),\n",
       "       (b'2025-06-15 17:08:02.679943', 4823, 3051,  0.79822,  2.85095),\n",
       "       (b'2025-06-15 17:08:02.679948', 2352, 7907, -0.4667 , -0.74614)],\n",
       "      dtype=[('Date', 'S26'), ('No1', '<i4'), ('No2', '<i4'), ('No3', '<f8'), ('No4', '<f8')])"
      ]
     },
     "execution_count": 17,
     "metadata": {},
     "output_type": "execute_result"
    }
   ],
   "source": [
    "tab[:3]"
   ]
  },
  {
   "cell_type": "code",
   "execution_count": 19,
   "metadata": {},
   "outputs": [
    {
     "name": "stdout",
     "output_type": "stream",
     "text": [
      "2000000\n"
     ]
    },
    {
     "data": {
      "image/png": "[encoded data removed]",
      "text/plain": [
       "<Figure size 640x480 with 1 Axes>"
      ]
     },
     "metadata": {},
     "output_type": "display_data"
    }
   ],
   "source": [
    "plt.hist(tab[:]['No3'], bins = 30)\n",
    "plt.grid(True)\n",
    "print(len(tab[:]['No3']))\n"
   ]
  },
  {
   "cell_type": "code",
   "execution_count": 21,
   "metadata": {},
   "outputs": [
    {
     "name": "stdout",
     "output_type": "stream",
     "text": [
      "Max              5.072\n",
      "min             -4.753\n",
      "ave             -0.000\n",
      "std              1.000\n",
      "CPU times: user 29.6 ms, sys: 49.5 ms, total: 79.1 ms\n",
      "Wall time: 101 ms\n"
     ]
    }
   ],
   "source": [
    "%%time\n",
    "values = tab.cols.No3[:]\n",
    "print('Max %18.3f'% values.max())\n",
    "print('min %18.3f'% values.min())\n",
    "print('ave %18.3f'% values.mean())\n",
    "print('std %18.3f'% values.std())"
   ]
  },
  {
   "cell_type": "code",
   "execution_count": 22,
   "metadata": {},
   "outputs": [],
   "source": [
    "!rm -f {path}datatab.h5"
   ]
  }
 ],
 "metadata": {
  "kernelspec": {
   "display_name": "base",
   "language": "python",
   "name": "python3"
  },
  "language_info": {
   "codemirror_mode": {
    "name": "ipython",
    "version": 3
   },
   "file_extension": ".py",
   "mimetype": "text/x-python",
   "name": "python",
   "nbconvert_exporter": "python",
   "pygments_lexer": "ipython3",
   "version": "3.11.5"
  }
 },
 "nbformat": 4,
 "nbformat_minor": 2
}
